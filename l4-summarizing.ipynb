{
 "cells": [
  {
   "cell_type": "markdown",
   "id": "87857393-6369-4b66-87c9-5f3253edf28e",
   "metadata": {},
   "source": [
    "# Summarizing\n",
    "In this lesson, you will summarize text with a focus on specific topics.\n",
    "\n",
    "## Setup"
   ]
  },
  {
   "cell_type": "code",
   "execution_count": 1,
   "id": "8ac673e1",
   "metadata": {
    "height": 132
   },
   "outputs": [],
   "source": [
    "import openai\n",
    "import os\n",
    "\n",
    "from dotenv import load_dotenv, find_dotenv\n",
    "_ = load_dotenv(find_dotenv()) # read local .env file\n",
    "\n",
    "openai.api_key  = os.getenv('OPENAI_API_KEY')"
   ]
  },
  {
   "cell_type": "code",
   "execution_count": 2,
   "id": "66de8ca6",
   "metadata": {
    "height": 183
   },
   "outputs": [],
   "source": [
    "def get_completion(prompt, model=\"gpt-3.5-turbo\"): # Andrew mentioned that the prompt/ completion paradigm is preferable for this class\n",
    "    messages = [{\"role\": \"user\", \"content\": prompt}]\n",
    "    response = openai.ChatCompletion.create(\n",
    "        model=model,\n",
    "        messages=messages,\n",
    "        temperature=0, # this is the degree of randomness of the model's output\n",
    "    )\n",
    "    return response.choices[0].message[\"content\"]\n"
   ]
  },
  {
   "cell_type": "markdown",
   "id": "387b0686-bea6-41a2-b879-88721dc0ec10",
   "metadata": {},
   "source": [
    "## Text to summarize"
   ]
  },
  {
   "cell_type": "code",
   "execution_count": 4,
   "id": "0ce2cf3c",
   "metadata": {
    "height": 183
   },
   "outputs": [],
   "source": [
    "prod_review = \"\"\"\n",
    "Got this panda plush toy for my daughter's birthday, \\\n",
    "who loves it and takes it everywhere. It's soft and \\ \n",
    "super cute, and its face has a friendly look. It's \\ \n",
    "a bit small for what I paid though. I think there \\ \n",
    "might be other options that are bigger for the \\ \n",
    "same price. It arrived a day earlier than expected, \\ \n",
    "so I got to play with it myself before I gave it \\ \n",
    "to her.\n",
    "\"\"\""
   ]
  },
  {
   "cell_type": "markdown",
   "id": "5d95eba0-7744-491a-a30a-8ee687303b7a",
   "metadata": {},
   "source": [
    "## Summarize with a word/sentence/character limit"
   ]
  },
  {
   "cell_type": "code",
   "execution_count": 4,
   "id": "0c3023c6",
   "metadata": {
    "height": 234
   },
   "outputs": [
    {
     "name": "stdout",
     "output_type": "stream",
     "text": [
      "This panda plush toy is loved by the reviewer's daughter, but they feel it is a bit small for the price.\n"
     ]
    }
   ],
   "source": [
    "prompt = f\"\"\"\n",
    "Your task is to generate a short summary of a product \\\n",
    "review from an ecommerce site. \n",
    "\n",
    "Summarize the review below, delimited by triple \n",
    "backticks, in at most 30 words. \n",
    "\n",
    "Review: ```{prod_review}```\n",
    "\"\"\"\n",
    "\n",
    "response = get_completion(prompt)\n",
    "print(response)\n"
   ]
  },
  {
   "cell_type": "markdown",
   "id": "90832908-3b3a-459b-b595-bbe15c2a72fa",
   "metadata": {},
   "source": [
    "## Summarize with a focus on shipping and delivery"
   ]
  },
  {
   "cell_type": "code",
   "execution_count": 5,
   "id": "d850bdd2",
   "metadata": {
    "height": 268
   },
   "outputs": [
    {
     "name": "stdout",
     "output_type": "stream",
     "text": [
      "The customer is happy with the product but suggests offering larger options for the same price. They were pleasantly surprised by the early delivery.\n"
     ]
    }
   ],
   "source": [
    "prompt = f\"\"\"\n",
    "Your task is to generate a short summary of a product \\\n",
    "review from an ecommerce site to give feedback to the \\\n",
    "Shipping deparmtment. \n",
    "\n",
    "Summarize the review below, delimited by triple \n",
    "backticks, in at most 30 words, and focusing on any aspects \\\n",
    "that mention shipping and delivery of the product. \n",
    "\n",
    "Review: ```{prod_review}```\n",
    "\"\"\"\n",
    "\n",
    "response = get_completion(prompt)\n",
    "print(response)\n"
   ]
  },
  {
   "cell_type": "markdown",
   "id": "01204385-1d27-420c-80ee-bd4b524550f6",
   "metadata": {},
   "source": [
    "## Summarize with a focus on price and value"
   ]
  },
  {
   "cell_type": "code",
   "execution_count": 6,
   "id": "6d865432",
   "metadata": {
    "height": 285
   },
   "outputs": [
    {
     "name": "stdout",
     "output_type": "stream",
     "text": [
      "The customer loves the panda plush toy for its softness and cuteness, but feels it is overpriced compared to other options available.\n"
     ]
    }
   ],
   "source": [
    "prompt = f\"\"\"\n",
    "Your task is to generate a short summary of a product \\\n",
    "review from an ecommerce site to give feedback to the \\\n",
    "pricing deparmtment, responsible for determining the \\\n",
    "price of the product.  \n",
    "\n",
    "Summarize the review below, delimited by triple \n",
    "backticks, in at most 30 words, and focusing on any aspects \\\n",
    "that are relevant to the price and perceived value. \n",
    "\n",
    "Review: ```{prod_review}```\n",
    "\"\"\"\n",
    "\n",
    "response = get_completion(prompt)\n",
    "print(response)\n"
   ]
  },
  {
   "cell_type": "markdown",
   "id": "21a561c4-d9a0-48a8-86c4-725746fb08df",
   "metadata": {},
   "source": [
    "#### Comment\n",
    "- Summaries include topics that are not related to the topic of focus."
   ]
  },
  {
   "cell_type": "markdown",
   "id": "9aff99cd-dc09-467c-bd09-897ffe06a232",
   "metadata": {},
   "source": [
    "## Try \"extract\" instead of \"summarize\""
   ]
  },
  {
   "cell_type": "code",
   "execution_count": 7,
   "id": "190943b0",
   "metadata": {
    "height": 251
   },
   "outputs": [
    {
     "name": "stdout",
     "output_type": "stream",
     "text": [
      "The shipping department should take note that the product arrived a day earlier than expected.\n"
     ]
    }
   ],
   "source": [
    "prompt = f\"\"\"\n",
    "Your task is to extract relevant information from \\ \n",
    "a product review from an ecommerce site to give \\\n",
    "feedback to the Shipping department. \n",
    "\n",
    "From the review below, delimited by triple quotes \\\n",
    "extract the information relevant to shipping and \\ \n",
    "delivery. Limit to 30 words. \n",
    "\n",
    "Review: ```{prod_review}```\n",
    "\"\"\"\n",
    "\n",
    "response = get_completion(prompt)\n",
    "print(response)"
   ]
  },
  {
   "cell_type": "markdown",
   "id": "f513da2e-f89c-4c91-8456-b79c630e70c9",
   "metadata": {},
   "source": [
    "## Summarize multiple product reviews"
   ]
  },
  {
   "cell_type": "code",
   "execution_count": 8,
   "id": "027822c2",
   "metadata": {
    "height": 1271
   },
   "outputs": [],
   "source": [
    "# review for a standing lamp\n",
    "review_2 = \"\"\"\n",
    "Topic: Copilot: Generative AI for Hardware Design\n",
    "\n",
    "Article: With a design mantra, “Hardware doesn’t have to be so hard,” Flux, a supplier of browser-based PCB design tools, has unveiled the latest iteration of Copilot, a chat-based artificial intelligence (AI) design assistant integrated into the Flux PCB design tool. The upgraded Copilot leaps forward on the path to generative AI by transitioning from being a helpful guide to a proactive design partner.\n",
    "\n",
    "Besides providing advice to design engineers, with user approval, Copilot now performs actions that pave the way to the automatic design of circuits. “Flux Copilot is becoming a truly collaborative partner in hardware design,” said Matthias Wagner, CEO of Flux. “This is a big step toward fully generative AI, reducing the time and complexity often associated with component connections.”\n",
    "\n",
    "Flux Copilot—based on a custom-trained large language model (LLM)—is designed to understand the principles of electrical engineering and circuit design. While living inside the design project, it provides direct feedback, advice, and analysis through a simple chat interface.\n",
    "\n",
    "How Copilot works\n",
    "\n",
    "Copilot carries out actual connections on the schematic, helping users navigate through simple circuits or intricate arrays of unfamiliar components. It also helps users with general questions, provides guidance on specific electronics design processes, and helps build circuits for them while eliminating the need for extensive research and iteration.\n",
    "\n",
    "“While making an integrated board is incredibly difficult, Copilot helps designers create a bunch of connections and manage control pins without reading an 80-page datasheet,” said Kerry Chayka, hardware engineer at Flux. Chayka, who started his career working on iPhone designs, learned firsthand how hardware is unnecessarily difficult.\n",
    "\n",
    "“You are buried in tools, a siloed world that’s very hard to progress through,” he added. “On the other hand, hardware design should be creative.” While working at a startup, where it took three weeks to develop a board, when Chayka began developing boards using Flux, it took him half a day to finish the design.\n",
    "\n",
    "“That’s how I ended up at Flux,” he said. “As a one-man hardware shop, I was able to compete with companies that had entire teams building hardware.” Chayka gave the example of automated impedance control, a complicated task designers must perform on PCBs when working on parts like HDMI bus, Ethernet, and PCIe. Flux can perform tasks like automated impedance control and automated pair routing for design engineers.\n",
    "\n",
    "“Design engineers must ensure that high-speed buses work properly with automated impedance control, so they don’t have to worry about things such as stack-up and calculating traces with spacing,” he said. “Copilot knows what these pins are doing and how they can be connected, so design engineers don’t have to do the boilerplate work over and over again.”\n",
    "\n",
    "\n",
    "\n",
    "With an upgraded version, Copilot is more than a design guide. It can tell engineers what a specific pin does or explain complex circuit elements, eliminating the need to sift through pages of complex documentation. Moreover, Copilot can explain the role of parts in projects, teach users about the design, and provide a headstart for open-source hardware projects.\n",
    "\n",
    "“If you are trying to design something similar, you can fork an open-source project, maybe add another sensor, but retain the rest of the capabilities,” Chayka noted. “That takes significantly shorter than constructing a board from scratch.”\n",
    "\n",
    "For instance, when trying to develop an environment radiation logger, Copilot will give the list of specific parts to use and offer suggestions on developing a two-stage amplifier with 20-kHz bandwidth. Copilot can also advise what parts should be used and walk through specific electronics design processes; for example, how to connect op-amps in a configuration you want.\n",
    "\n",
    "Community-based business model\n",
    "\n",
    "Flux, founded in 2019 as an online hardware design platform, aims to augment engineering capabilities and thus enable professional engineers to work faster with much lower effort. “If you are a young engineer, it will enable you to do things for which you don’t have the skills,” said Jared Kofron, software engineer at Flux.\n",
    "\n",
    "“We have an online hardware design community that offers public projects to leverage,” he added. “All projects start private by default, but some folks choose to make their projects public.” In other words, if a developer creates a part, it’s made public at Flux, and everyone can access it. Next, Flux adds real-time information about component stock and pricing to avoid supply chain issues before an engineer starts a project.\n",
    "\n",
    "\n",
    "“We have a subscription model where users can subscribe for a standard monthly fee, which we want to keep low to expand access,” Kofron said. “The only thing behind the subscription is how many private projects an individual can do.”\n",
    "\n",
    "If design engineers want to have the free version of the application, they are allowed to work on 10 private projects. If they want to go beyond that, Flux asks for a subscription; the current rate is $12 a month. Flux also has a team-tier package for companies, which is more expensive.\n",
    "\n",
    "Initially, Flux saw a lot of interest from the hobbyist community and individual contractors. “We have also seen a lot of interest from smaller startups,” noted Kofron. “A reasonable number of large companies are also using Flux to make a difference.”\n",
    "\n",
    "In electrical engineering, you must work at so many levels of complexity, from a high-level view to deep down at USB implementation stacks, said Chayka. “You have to understand all the complexity,” he added. “We want people who don’t have a lot of electronics design experience to be able to use the same feature set that a super pro user would use.”\n",
    "\"\"\"\n",
    "\n",
    "# review for an electric toothbrush\n",
    "review_3 = \"\"\"\n",
    "My dental hygienist recommended an electric toothbrush, \\\n",
    "which is why I got this. The battery life seems to be \\\n",
    "pretty impressive so far. After initial charging and \\\n",
    "leaving the charger plugged in for the first week to \\\n",
    "condition the battery, I've unplugged the charger and \\\n",
    "been using it for twice daily brushing for the last \\\n",
    "3 weeks all on the same charge. But the toothbrush head \\\n",
    "is too small. I’ve seen baby toothbrushes bigger than \\\n",
    "this one. I wish the head was bigger with different \\\n",
    "length bristles to get between teeth better because \\\n",
    "this one doesn’t.  Overall if you can get this one \\\n",
    "around the $50 mark, it's a good deal. The manufactuer's \\\n",
    "replacements heads are pretty expensive, but you can \\\n",
    "get generic ones that're more reasonably priced. This \\\n",
    "toothbrush makes me feel like I've been to the dentist \\\n",
    "every day. My teeth feel sparkly clean! \n",
    "\"\"\"\n",
    "\n",
    "\n",
    "\n",
    "reviews = [review_2]\n",
    "\n"
   ]
  },
  {
   "cell_type": "code",
   "execution_count": null,
   "id": "b7c39cc8",
   "metadata": {
    "height": 251
   },
   "outputs": [],
   "source": [
    "for i in range(len(reviews)):\n",
    "    prompt = f\"\"\"\n",
    "    Your task is to generate a summary of the article. \n",
    "\n",
    "    Summarize the article below, delimited by triple \\\n",
    "    backticks in at most 175 words.\n",
    "    \n",
    "    - The summary should be written as a professional post for LinkedIn.\n",
    "    - The summary should have 5 key features or take-aways regarding the new tool\n",
    "    - The summary should have the emoticons\n",
    "    - At the end of the summary, ask readers opinions in comments and suggest them to like and sshare the post for maxmium reach\n",
    "    - Also, ask the readers to follow me for more exciting news on AI/ML, amerging technologies. Also add five hastags at the end of the post. The hashtags should be chosen which must define the contents of this summary.\n",
    "\n",
    "    Review: ```{reviews[i]}```\n",
    "    \"\"\"\n",
    "\n",
    "    response = get_completion(prompt)\n",
    "    print(i, response, \"\\n\")\n"
   ]
  },
  {
   "cell_type": "markdown",
   "id": "e0c9f921-8672-4124-bad6-8bee65078ccb",
   "metadata": {},
   "source": [
    "## Try experimenting on your own!"
   ]
  },
  {
   "cell_type": "code",
   "execution_count": null,
   "id": "d05d8a20-86f2-4613-835e-41c49a504b5b",
   "metadata": {
    "height": 30
   },
   "outputs": [],
   "source": []
  }
 ],
 "metadata": {
  "kernelspec": {
   "display_name": "Python 3 (ipykernel)",
   "language": "python",
   "name": "python3"
  },
  "language_info": {
   "codemirror_mode": {
    "name": "ipython",
    "version": 3
   },
   "file_extension": ".py",
   "mimetype": "text/x-python",
   "name": "python",
   "nbconvert_exporter": "python",
   "pygments_lexer": "ipython3",
   "version": "3.9.16"
  }
 },
 "nbformat": 4,
 "nbformat_minor": 5
}
